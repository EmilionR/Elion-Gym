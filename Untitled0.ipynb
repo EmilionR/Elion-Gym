{
  "nbformat": 4,
  "nbformat_minor": 0,
  "metadata": {
    "colab": {
      "provenance": [],
      "gpuType": "T4",
      "authorship_tag": "ABX9TyO4Ja3sF0mdU7aUAIauhAvH",
      "include_colab_link": true
    },
    "kernelspec": {
      "name": "python3",
      "display_name": "Python 3"
    },
    "language_info": {
      "name": "python"
    },
    "accelerator": "GPU"
  },
  "cells": [
    {
      "cell_type": "markdown",
      "metadata": {
        "id": "view-in-github",
        "colab_type": "text"
      },
      "source": [
        "<a href=\"https://colab.research.google.com/github/EmilionR/Elion-Gym/blob/main/Untitled0.ipynb\" target=\"_parent\"><img src=\"https://colab.research.google.com/assets/colab-badge.svg\" alt=\"Open In Colab\"/></a>"
      ]
    },
    {
      "cell_type": "code",
      "execution_count": 4,
      "metadata": {
        "collapsed": true,
        "id": "E_uuET3ZIZTY"
      },
      "outputs": [],
      "source": [
        "import torch\n",
        "import torch.nn as nn\n",
        "import torch.nn.functional as F"
      ]
    },
    {
      "cell_type": "code",
      "source": [
        "# Create a Model Class that inherits nn.Module\n",
        "class Model(nn.Module):\n",
        "  # Input layer (4 features of the flower)\n",
        "  #--> Hidden Layer1 (number of neurons)\n",
        "  #--> H2 (n)\n",
        "  #--> output (3 classes of iris flowers)\n",
        "\n",
        "  def __init__(self, in_features=4, h1=8, h2=8, out_features=3):\n",
        "    super().__init__() #instantiate nn.Module\n",
        "    self.fc1 = nn.Linear(in_features, h1)\n",
        "    self.fc2 = nn.Linear(h1, h2)\n",
        "    self.out = nn.Linear(h2, out_features)\n",
        "\n",
        "  def forward(self, x):\n",
        "    x = F.relu(self.fc1(x))\n",
        "    x = F.relu(self.fc2(x))\n",
        "    x = self.out(x)\n",
        "\n",
        "    return x\n"
      ],
      "metadata": {
        "id": "hK5-fbmTx6fH"
      },
      "execution_count": 5,
      "outputs": []
    },
    {
      "cell_type": "code",
      "source": [
        "# Set a manual seed for randomization\n",
        "torch.manual_seed(42)\n",
        "# Create an instance of Model\n",
        "model = Model()"
      ],
      "metadata": {
        "id": "ikrHSyJP4VSG"
      },
      "execution_count": 6,
      "outputs": []
    },
    {
      "cell_type": "code",
      "source": [
        "import pandas as pd\n",
        "import matplotlib.pyplot as plt\n",
        "%matplotlib inline"
      ],
      "metadata": {
        "id": "LcuWNN9J6N7b"
      },
      "execution_count": 7,
      "outputs": []
    },
    {
      "cell_type": "code",
      "source": [
        "url = 'https://gist.githubusercontent.com/curran/a08a1080b88344b0c8a7/raw/0e7a9b0a5d22642a06d3d5b9bcbad9890c8ee534/iris.csv'\n",
        "my_df = pd.read_csv(url)"
      ],
      "metadata": {
        "id": "jif725IF6na5"
      },
      "execution_count": 8,
      "outputs": []
    },
    {
      "cell_type": "code",
      "source": [
        "# Change last column from strings to integers\n",
        "my_df['species'] = my_df['species'].replace('setosa', 0.0)\n",
        "my_df['species'] = my_df['species'].replace('versicolor', 1.0)\n",
        "my_df['species'] = my_df['species'].replace('virginica', 2.0)"
      ],
      "metadata": {
        "id": "wvPwbbfj7pCb",
        "collapsed": true
      },
      "execution_count": 10,
      "outputs": []
    },
    {
      "cell_type": "code",
      "source": [
        "# Train Test Split / Set X, y\n",
        "X = my_df.drop('species', axis=1)\n",
        "y = my_df['species']"
      ],
      "metadata": {
        "id": "qT33F9n59chL"
      },
      "execution_count": 11,
      "outputs": []
    },
    {
      "cell_type": "code",
      "source": [
        "# Convert these to numpy arrays\n",
        "X = X.values\n",
        "y = y.values"
      ],
      "metadata": {
        "id": "k1HGGxgL-k7Q"
      },
      "execution_count": 12,
      "outputs": []
    },
    {
      "cell_type": "code",
      "source": [
        "from sklearn.model_selection import train_test_split\n",
        "# Train Test Split\n",
        "X_train, X_test, y_train, y_test = train_test_split(X, y, test_size=0.2, random_state=42)"
      ],
      "metadata": {
        "id": "okLoosOt-xQ0"
      },
      "execution_count": 13,
      "outputs": []
    },
    {
      "cell_type": "code",
      "source": [
        "# Convert X features to float tensors\n",
        "X_train = torch.FloatTensor(X_train)\n",
        "X_test = torch.FloatTensor(X_test)"
      ],
      "metadata": {
        "id": "ymI7maPsBCuR"
      },
      "execution_count": 14,
      "outputs": []
    },
    {
      "cell_type": "code",
      "source": [
        "# Convert y labels to tensors long\n",
        "y_train = torch.LongTensor(y_train)\n",
        "y_test = torch.LongTensor(y_test)"
      ],
      "metadata": {
        "id": "V1PmoquTCCIx"
      },
      "execution_count": 15,
      "outputs": []
    },
    {
      "cell_type": "code",
      "source": [
        "# Set the criterion of Model to measure the Error, how far off the predictions are from the data\n",
        "criterion = nn.CrossEntropyLoss()\n",
        "# Choose Optimizer, lr = learning rate (if error doesn't go down after several iterations (epochs), lower the learning rate )\n",
        "optimizer = torch.optim.Adam(model.parameters(), lr=0.01)"
      ],
      "metadata": {
        "id": "aDMuLuZiIhTd"
      },
      "execution_count": 17,
      "outputs": []
    },
    {
      "cell_type": "code",
      "source": [
        "# Training the model\n",
        "# Epochs (one run through all the training data in our network)\n",
        "epochs = 100\n",
        "losses = []\n",
        "for i in range(epochs):\n",
        "  #Go forward and get a prediction\n",
        "  y_pred = model.forward(X_train) # Get predicted results\n",
        "\n",
        "  # Measure loss/error, high at first\n",
        "  loss = criterion(y_pred, y_train) # predicted values vs the y_train\n",
        "\n",
        "  # Keep track of our losses\n",
        "  losses.append(loss.detach().numpy())\n",
        "\n",
        "  # Print every 10 epochs\n",
        "  if i % 10 == 0:\n",
        "    print(f\"Epoch: {i}, Loss: {loss}\")\n",
        "\n",
        "  # Do back propagation. Take the error rate of forward propagation and feed it\n",
        "  # back through the network to fine-tune the weights\n",
        "  optimizer.zero_grad()\n",
        "  loss.backward()\n",
        "  optimizer.step()\n"
      ],
      "metadata": {
        "colab": {
          "base_uri": "https://localhost:8080/"
        },
        "id": "-huMidyARrkr",
        "outputId": "a5de9bb2-6e2c-43d9-f02a-55b8a4c1daa6"
      },
      "execution_count": 20,
      "outputs": [
        {
          "output_type": "stream",
          "name": "stdout",
          "text": [
            "Epoch: 0, Loss: 0.05325104668736458\n",
            "Epoch: 10, Loss: 0.05287153646349907\n",
            "Epoch: 20, Loss: 0.05245654284954071\n",
            "Epoch: 30, Loss: 0.05209356173872948\n",
            "Epoch: 40, Loss: 0.05175817757844925\n",
            "Epoch: 50, Loss: 0.05143783241510391\n",
            "Epoch: 60, Loss: 0.051131997257471085\n",
            "Epoch: 70, Loss: 0.05084269866347313\n",
            "Epoch: 80, Loss: 0.05103813111782074\n",
            "Epoch: 90, Loss: 0.050340864807367325\n"
          ]
        }
      ]
    },
    {
      "cell_type": "code",
      "source": [],
      "metadata": {
        "id": "MLamK03cV3ht"
      },
      "execution_count": null,
      "outputs": []
    }
  ]
}